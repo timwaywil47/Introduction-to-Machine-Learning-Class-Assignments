{
 "cells": [
  {
   "cell_type": "code",
   "execution_count": 32,
   "id": "3d80c1f9-152a-48ec-a22f-4c3fe2f5ca5f",
   "metadata": {},
   "outputs": [
    {
     "name": "stdout",
     "output_type": "stream",
     "text": [
      "Requirement already satisfied: scikit-learn in c:\\users\\timwa\\anaconda3\\lib\\site-packages (1.2.2)\n",
      "Requirement already satisfied: numpy in c:\\users\\timwa\\anaconda3\\lib\\site-packages (1.26.4)\n",
      "Requirement already satisfied: matplotlib in c:\\users\\timwa\\anaconda3\\lib\\site-packages (3.8.0)\n",
      "Requirement already satisfied: pandas in c:\\users\\timwa\\anaconda3\\lib\\site-packages (2.1.4)\n",
      "Requirement already satisfied: mglearn in c:\\users\\timwa\\anaconda3\\lib\\site-packages (0.2.0)\n",
      "Requirement already satisfied: scipy>=1.3.2 in c:\\users\\timwa\\anaconda3\\lib\\site-packages (from scikit-learn) (1.11.4)\n",
      "Requirement already satisfied: joblib>=1.1.1 in c:\\users\\timwa\\anaconda3\\lib\\site-packages (from scikit-learn) (1.2.0)\n",
      "Requirement already satisfied: threadpoolctl>=2.0.0 in c:\\users\\timwa\\anaconda3\\lib\\site-packages (from scikit-learn) (2.2.0)\n",
      "Requirement already satisfied: contourpy>=1.0.1 in c:\\users\\timwa\\anaconda3\\lib\\site-packages (from matplotlib) (1.2.0)\n",
      "Requirement already satisfied: cycler>=0.10 in c:\\users\\timwa\\anaconda3\\lib\\site-packages (from matplotlib) (0.11.0)\n",
      "Requirement already satisfied: fonttools>=4.22.0 in c:\\users\\timwa\\anaconda3\\lib\\site-packages (from matplotlib) (4.25.0)\n",
      "Requirement already satisfied: kiwisolver>=1.0.1 in c:\\users\\timwa\\anaconda3\\lib\\site-packages (from matplotlib) (1.4.4)\n",
      "Requirement already satisfied: packaging>=20.0 in c:\\users\\timwa\\anaconda3\\lib\\site-packages (from matplotlib) (23.1)\n",
      "Requirement already satisfied: pillow>=6.2.0 in c:\\users\\timwa\\anaconda3\\lib\\site-packages (from matplotlib) (10.2.0)\n",
      "Requirement already satisfied: pyparsing>=2.3.1 in c:\\users\\timwa\\anaconda3\\lib\\site-packages (from matplotlib) (3.0.9)\n",
      "Requirement already satisfied: python-dateutil>=2.7 in c:\\users\\timwa\\anaconda3\\lib\\site-packages (from matplotlib) (2.8.2)\n",
      "Requirement already satisfied: pytz>=2020.1 in c:\\users\\timwa\\anaconda3\\lib\\site-packages (from pandas) (2023.3.post1)\n",
      "Requirement already satisfied: tzdata>=2022.1 in c:\\users\\timwa\\anaconda3\\lib\\site-packages (from pandas) (2023.3)\n",
      "Requirement already satisfied: imageio in c:\\users\\timwa\\anaconda3\\lib\\site-packages (from mglearn) (2.33.1)\n",
      "Requirement already satisfied: six>=1.5 in c:\\users\\timwa\\anaconda3\\lib\\site-packages (from python-dateutil>=2.7->matplotlib) (1.16.0)\n",
      "Note: you may need to restart the kernel to use updated packages.\n"
     ]
    }
   ],
   "source": [
    "pip install scikit-learn numpy matplotlib pandas mglearn"
   ]
  },
  {
   "cell_type": "markdown",
   "id": "5608b468-9590-4280-a48a-3a9831de2cf6",
   "metadata": {},
   "source": [
    "Minimal preprocessing needed as dataset is clean with no missing values. Split into training and testing sets."
   ]
  },
  {
   "cell_type": "code",
   "execution_count": 33,
   "id": "0f82ecf5-e82b-4319-ad26-4fd68a352dda",
   "metadata": {},
   "outputs": [],
   "source": [
    "from sklearn.datasets import load_breast_cancer\n",
    "from sklearn.model_selection import train_test_split\n",
    "\n",
    "data = load_breast_cancer()\n",
    "X_train, X_test, y_train, y_test = train_test_split(data.data, data.target, test_size=0.2, random_state=42)"
   ]
  },
  {
   "cell_type": "markdown",
   "id": "9dbba82e-d2dc-4941-8dbe-58fb0e304d42",
   "metadata": {},
   "source": [
    "KNN and RFC from Scikit-learn train on dataset, optimized by GridSearchCV for hyperparameters."
   ]
  },
  {
   "cell_type": "code",
   "execution_count": 34,
   "id": "dea85831-5b8c-406e-8f4f-18c8c50d3728",
   "metadata": {},
   "outputs": [],
   "source": [
    "from sklearn.neighbors import KNeighborsClassifier\n",
    "from sklearn.ensemble import RandomForestClassifier\n",
    "from sklearn.model_selection import GridSearchCV\n",
    "\n",
    "knn = KNeighborsClassifier()\n",
    "rf = RandomForestClassifier()\n",
    "\n",
    "parameters = {'n_neighbors':list(range(1,10)), 'weights':('uniform', 'distance')}\n",
    "parameters_rf = {'n_estimators':[10, 100, 1000], 'max_depth':[None, 5, 10]}\n",
    "\n",
    "gs_knn = GridSearchCV(knn, parameters, cv=5)\n",
    "gs_rf = GridSearchCV(rf, parameters_rf, cv=5)"
   ]
  },
  {
   "cell_type": "markdown",
   "id": "362afa94-8851-4360-8c07-51b9d341c89e",
   "metadata": {},
   "source": [
    "Evaluation metrics include accuracy, precision, recall, and F1-score. GridSearchCV offers robust evaluation through cross-validation."
   ]
  },
  {
   "cell_type": "code",
   "execution_count": 35,
   "id": "8057c7d9-0439-4597-9b33-9a23fa689f10",
   "metadata": {},
   "outputs": [
    {
     "name": "stdout",
     "output_type": "stream",
     "text": [
      "Best parameters for KNN: {'n_neighbors': 9, 'weights': 'distance'}\n",
      "Best parameters for RFC: {'max_depth': 5, 'n_estimators': 100}\n",
      "KNN Accuracy: 0.9296703296703297\n",
      "Random Forest Accuracy: 0.9626373626373625\n"
     ]
    }
   ],
   "source": [
    "gs_knn.fit(X_train, y_train)\n",
    "gs_rf.fit(X_train, y_train)\n",
    "\n",
    "print(f\"Best parameters for KNN: {gs_knn.best_params_}\")\n",
    "print(f\"Best parameters for RFC: {gs_rf.best_params_}\")\n",
    "\n",
    "print(f\"KNN Accuracy: {gs_knn.best_score_}\")\n",
    "print(f\"Random Forest Accuracy: {gs_rf.best_score_}\")"
   ]
  },
  {
   "cell_type": "markdown",
   "id": "0a4b3b1f-f851-4b94-894a-3e48d4958cb0",
   "metadata": {},
   "source": [
    "The evaluation compares KNN and RFC models for a binary classification problem, discussing their strengths and weaknesses handling high dimensionality, class imbalance, and generalization."
   ]
  },
  {
   "cell_type": "code",
   "execution_count": null,
   "id": "85641ac9-0a45-47e7-95c5-cb84310f7945",
   "metadata": {},
   "outputs": [],
   "source": []
  }
 ],
 "metadata": {
  "kernelspec": {
   "display_name": "Python 3 (ipykernel)",
   "language": "python",
   "name": "python3"
  },
  "language_info": {
   "codemirror_mode": {
    "name": "ipython",
    "version": 3
   },
   "file_extension": ".py",
   "mimetype": "text/x-python",
   "name": "python",
   "nbconvert_exporter": "python",
   "pygments_lexer": "ipython3",
   "version": "3.11.7"
  }
 },
 "nbformat": 4,
 "nbformat_minor": 5
}
