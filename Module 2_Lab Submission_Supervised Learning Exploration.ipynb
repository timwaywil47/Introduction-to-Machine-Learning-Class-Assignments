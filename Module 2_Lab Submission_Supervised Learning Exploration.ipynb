{
 "cells": [
  {
   "cell_type": "code",
   "execution_count": 6,
   "id": "df652824-8106-47ff-a954-e9a2ec0e854c",
   "metadata": {},
   "outputs": [
    {
     "name": "stdout",
     "output_type": "stream",
     "text": [
      "Requirement already satisfied: scikit-learn in c:\\users\\timwa\\anaconda3\\lib\\site-packages (1.2.2)\n",
      "Requirement already satisfied: numpy in c:\\users\\timwa\\anaconda3\\lib\\site-packages (1.26.4)\n",
      "Requirement already satisfied: matplotlib in c:\\users\\timwa\\anaconda3\\lib\\site-packages (3.8.0)\n",
      "Requirement already satisfied: pandas in c:\\users\\timwa\\anaconda3\\lib\\site-packages (2.1.4)\n",
      "Collecting mglearn\n",
      "  Downloading mglearn-0.2.0-py2.py3-none-any.whl.metadata (628 bytes)\n",
      "Requirement already satisfied: scipy>=1.3.2 in c:\\users\\timwa\\anaconda3\\lib\\site-packages (from scikit-learn) (1.11.4)\n",
      "Requirement already satisfied: joblib>=1.1.1 in c:\\users\\timwa\\anaconda3\\lib\\site-packages (from scikit-learn) (1.2.0)\n",
      "Requirement already satisfied: threadpoolctl>=2.0.0 in c:\\users\\timwa\\anaconda3\\lib\\site-packages (from scikit-learn) (2.2.0)\n",
      "Requirement already satisfied: contourpy>=1.0.1 in c:\\users\\timwa\\anaconda3\\lib\\site-packages (from matplotlib) (1.2.0)\n",
      "Requirement already satisfied: cycler>=0.10 in c:\\users\\timwa\\anaconda3\\lib\\site-packages (from matplotlib) (0.11.0)\n",
      "Requirement already satisfied: fonttools>=4.22.0 in c:\\users\\timwa\\anaconda3\\lib\\site-packages (from matplotlib) (4.25.0)\n",
      "Requirement already satisfied: kiwisolver>=1.0.1 in c:\\users\\timwa\\anaconda3\\lib\\site-packages (from matplotlib) (1.4.4)\n",
      "Requirement already satisfied: packaging>=20.0 in c:\\users\\timwa\\anaconda3\\lib\\site-packages (from matplotlib) (23.1)\n",
      "Requirement already satisfied: pillow>=6.2.0 in c:\\users\\timwa\\anaconda3\\lib\\site-packages (from matplotlib) (10.2.0)\n",
      "Requirement already satisfied: pyparsing>=2.3.1 in c:\\users\\timwa\\anaconda3\\lib\\site-packages (from matplotlib) (3.0.9)\n",
      "Requirement already satisfied: python-dateutil>=2.7 in c:\\users\\timwa\\anaconda3\\lib\\site-packages (from matplotlib) (2.8.2)\n",
      "Requirement already satisfied: pytz>=2020.1 in c:\\users\\timwa\\anaconda3\\lib\\site-packages (from pandas) (2023.3.post1)\n",
      "Requirement already satisfied: tzdata>=2022.1 in c:\\users\\timwa\\anaconda3\\lib\\site-packages (from pandas) (2023.3)\n",
      "Requirement already satisfied: imageio in c:\\users\\timwa\\anaconda3\\lib\\site-packages (from mglearn) (2.33.1)\n",
      "Requirement already satisfied: six>=1.5 in c:\\users\\timwa\\anaconda3\\lib\\site-packages (from python-dateutil>=2.7->matplotlib) (1.16.0)\n",
      "Downloading mglearn-0.2.0-py2.py3-none-any.whl (581 kB)\n",
      "   ---------------------------------------- 0.0/581.4 kB ? eta -:--:--\n",
      "    --------------------------------------- 10.2/581.4 kB ? eta -:--:--\n",
      "   -- ------------------------------------ 41.0/581.4 kB 653.6 kB/s eta 0:00:01\n",
      "   ------------- -------------------------- 194.6/581.4 kB 2.0 MB/s eta 0:00:01\n",
      "   ---------------------------------------  573.4/581.4 kB 4.0 MB/s eta 0:00:01\n",
      "   ---------------------------------------- 581.4/581.4 kB 3.7 MB/s eta 0:00:00\n",
      "Installing collected packages: mglearn\n",
      "Successfully installed mglearn-0.2.0\n",
      "Note: you may need to restart the kernel to use updated packages.\n"
     ]
    }
   ],
   "source": [
    "pip install scikit-learn numpy matplotlib pandas mglearn"
   ]
  },
  {
   "cell_type": "code",
   "execution_count": 8,
   "id": "d57d75d9-65d0-494d-a113-163dac0545b4",
   "metadata": {},
   "outputs": [],
   "source": [
    "import pandas as pd"
   ]
  },
  {
   "cell_type": "code",
   "execution_count": 11,
   "id": "aefb3730-801b-4f30-ae86-ab8723d1cc3e",
   "metadata": {},
   "outputs": [],
   "source": [
    "from sklearn.datasets import load_breast_cancer\n",
    "data = load_breast_cancer()\n",
    "X = data.data\n",
    "y = data.target"
   ]
  },
  {
   "cell_type": "markdown",
   "id": "00bffb25-0e78-4dc6-8013-84051bb4b5b0",
   "metadata": {},
   "source": [
    "I am applying the KNN and Random Forest Classifier on the Breast Cancer Wisconsin (Diagnostic) Dataset. The dataset was preprocessed to ensure that it is ready for model training. I compared the performance of the two algorithms and concluded that the Random Forest Classifier was more accurate and efficient compared to KNN for this dataset."
   ]
  },
  {
   "cell_type": "code",
   "execution_count": 12,
   "id": "e9eec1b8-466c-4ae2-9a80-d017f349cd4d",
   "metadata": {},
   "outputs": [],
   "source": [
    "from sklearn.model_selection import train_test_split\n",
    "X_train, X_test, y_train, y_test = train_test_split(X, y, test_size=0.3, random_state=42)"
   ]
  },
  {
   "cell_type": "markdown",
   "id": "2af237ce-408f-4fe6-846c-309b91103d33",
   "metadata": {},
   "source": [
    "This is the Crux implementation involved using k-Nearest Neighbors (KNN) and Random Forests (RF) algorithms on the Breast Cancer Wisconsin Dataset. KNN is an instance-based classifier that classifies new data points based on similarity measures. The KNN algorithm calculates the distance between the new data point and all points in the training dataset to assign a class label based on the K most similar instances.\n"
   ]
  },
  {
   "cell_type": "code",
   "execution_count": 13,
   "id": "91784856-c257-4062-9106-83229fe2404e",
   "metadata": {},
   "outputs": [
    {
     "data": {
      "text/html": [
       "<style>#sk-container-id-1 {color: black;background-color: white;}#sk-container-id-1 pre{padding: 0;}#sk-container-id-1 div.sk-toggleable {background-color: white;}#sk-container-id-1 label.sk-toggleable__label {cursor: pointer;display: block;width: 100%;margin-bottom: 0;padding: 0.3em;box-sizing: border-box;text-align: center;}#sk-container-id-1 label.sk-toggleable__label-arrow:before {content: \"▸\";float: left;margin-right: 0.25em;color: #696969;}#sk-container-id-1 label.sk-toggleable__label-arrow:hover:before {color: black;}#sk-container-id-1 div.sk-estimator:hover label.sk-toggleable__label-arrow:before {color: black;}#sk-container-id-1 div.sk-toggleable__content {max-height: 0;max-width: 0;overflow: hidden;text-align: left;background-color: #f0f8ff;}#sk-container-id-1 div.sk-toggleable__content pre {margin: 0.2em;color: black;border-radius: 0.25em;background-color: #f0f8ff;}#sk-container-id-1 input.sk-toggleable__control:checked~div.sk-toggleable__content {max-height: 200px;max-width: 100%;overflow: auto;}#sk-container-id-1 input.sk-toggleable__control:checked~label.sk-toggleable__label-arrow:before {content: \"▾\";}#sk-container-id-1 div.sk-estimator input.sk-toggleable__control:checked~label.sk-toggleable__label {background-color: #d4ebff;}#sk-container-id-1 div.sk-label input.sk-toggleable__control:checked~label.sk-toggleable__label {background-color: #d4ebff;}#sk-container-id-1 input.sk-hidden--visually {border: 0;clip: rect(1px 1px 1px 1px);clip: rect(1px, 1px, 1px, 1px);height: 1px;margin: -1px;overflow: hidden;padding: 0;position: absolute;width: 1px;}#sk-container-id-1 div.sk-estimator {font-family: monospace;background-color: #f0f8ff;border: 1px dotted black;border-radius: 0.25em;box-sizing: border-box;margin-bottom: 0.5em;}#sk-container-id-1 div.sk-estimator:hover {background-color: #d4ebff;}#sk-container-id-1 div.sk-parallel-item::after {content: \"\";width: 100%;border-bottom: 1px solid gray;flex-grow: 1;}#sk-container-id-1 div.sk-label:hover label.sk-toggleable__label {background-color: #d4ebff;}#sk-container-id-1 div.sk-serial::before {content: \"\";position: absolute;border-left: 1px solid gray;box-sizing: border-box;top: 0;bottom: 0;left: 50%;z-index: 0;}#sk-container-id-1 div.sk-serial {display: flex;flex-direction: column;align-items: center;background-color: white;padding-right: 0.2em;padding-left: 0.2em;position: relative;}#sk-container-id-1 div.sk-item {position: relative;z-index: 1;}#sk-container-id-1 div.sk-parallel {display: flex;align-items: stretch;justify-content: center;background-color: white;position: relative;}#sk-container-id-1 div.sk-item::before, #sk-container-id-1 div.sk-parallel-item::before {content: \"\";position: absolute;border-left: 1px solid gray;box-sizing: border-box;top: 0;bottom: 0;left: 50%;z-index: -1;}#sk-container-id-1 div.sk-parallel-item {display: flex;flex-direction: column;z-index: 1;position: relative;background-color: white;}#sk-container-id-1 div.sk-parallel-item:first-child::after {align-self: flex-end;width: 50%;}#sk-container-id-1 div.sk-parallel-item:last-child::after {align-self: flex-start;width: 50%;}#sk-container-id-1 div.sk-parallel-item:only-child::after {width: 0;}#sk-container-id-1 div.sk-dashed-wrapped {border: 1px dashed gray;margin: 0 0.4em 0.5em 0.4em;box-sizing: border-box;padding-bottom: 0.4em;background-color: white;}#sk-container-id-1 div.sk-label label {font-family: monospace;font-weight: bold;display: inline-block;line-height: 1.2em;}#sk-container-id-1 div.sk-label-container {text-align: center;}#sk-container-id-1 div.sk-container {/* jupyter's `normalize.less` sets `[hidden] { display: none; }` but bootstrap.min.css set `[hidden] { display: none !important; }` so we also need the `!important` here to be able to override the default hidden behavior on the sphinx rendered scikit-learn.org. See: https://github.com/scikit-learn/scikit-learn/issues/21755 */display: inline-block !important;position: relative;}#sk-container-id-1 div.sk-text-repr-fallback {display: none;}</style><div id=\"sk-container-id-1\" class=\"sk-top-container\"><div class=\"sk-text-repr-fallback\"><pre>RandomForestClassifier()</pre><b>In a Jupyter environment, please rerun this cell to show the HTML representation or trust the notebook. <br />On GitHub, the HTML representation is unable to render, please try loading this page with nbviewer.org.</b></div><div class=\"sk-container\" hidden><div class=\"sk-item\"><div class=\"sk-estimator sk-toggleable\"><input class=\"sk-toggleable__control sk-hidden--visually\" id=\"sk-estimator-id-1\" type=\"checkbox\" checked><label for=\"sk-estimator-id-1\" class=\"sk-toggleable__label sk-toggleable__label-arrow\">RandomForestClassifier</label><div class=\"sk-toggleable__content\"><pre>RandomForestClassifier()</pre></div></div></div></div></div>"
      ],
      "text/plain": [
       "RandomForestClassifier()"
      ]
     },
     "execution_count": 13,
     "metadata": {},
     "output_type": "execute_result"
    }
   ],
   "source": [
    "from sklearn.neighbors import KNeighborsClassifier\n",
    "from sklearn.ensemble import RandomForestClassifier\n",
    "\n",
    "knn = KNeighborsClassifier(n_neighbors=5)\n",
    "rf = RandomForestClassifier(n_estimators=100)\n",
    "\n",
    "knn.fit(X_train, y_train)\n",
    "rf.fit(X_train, y_train)"
   ]
  },
  {
   "cell_type": "code",
   "execution_count": 18,
   "id": "0e6c2860-8b7d-4309-ab00-b2aa12eaee08",
   "metadata": {},
   "outputs": [],
   "source": [
    "#Random Forest is better at handling complex relationships, less prone to overfitting than KNN.#"
   ]
  },
  {
   "cell_type": "markdown",
   "id": "e8bfa8b9-e8d7-4bd1-8834-0c72f5e963e1",
   "metadata": {},
   "source": [
    "Random Forests are ensemble algorithms that create decision trees to combine their predictions for more accurate results. Each decision tree in RF is built using different subsets of data and features, and the final class for a new data point is determined by the most votes from the decision trees.\n"
   ]
  },
  {
   "cell_type": "code",
   "execution_count": 14,
   "id": "a44f299b-2ce2-47cd-97ab-320028248852",
   "metadata": {},
   "outputs": [
    {
     "name": "stdout",
     "output_type": "stream",
     "text": [
      "KNN Accuracy:  0.9590643274853801\n",
      "Random Forest Accuracy:  0.9649122807017544\n"
     ]
    }
   ],
   "source": [
    "print(\"KNN Accuracy: \", knn.score(X_test, y_test))\n",
    "print(\"Random Forest Accuracy: \", rf.score(X_test, y_test))"
   ]
  },
  {
   "cell_type": "code",
   "execution_count": 16,
   "id": "007b4c81-b761-4278-8333-0171a6610b66",
   "metadata": {},
   "outputs": [],
   "source": [
    "#Comparing the results, we can see that the Random Forest Classifier outperformed the KNN algorithm on this dataset.#"
   ]
  },
  {
   "cell_type": "markdown",
   "id": "55fbb600-7703-421a-88f2-2d4a22be6fbb",
   "metadata": {},
   "source": [
    "The performance of the models was evaluated using accuracy, with the RF model showing higher accuracy compared to the KNN model. The ensemble nature of RF, its ability to handle complex feature relationships, and robustness to overfitting likely contributed to its superior performance."
   ]
  },
  {
   "cell_type": "markdown",
   "id": "2f977247-1280-4b80-aa07-b65c9ff0e8ba",
   "metadata": {},
   "source": [
    "Lab Learning Experience: This lab is all about diving deep into supervised learning algorithms and seeing how they work with real-world data. I got hands-on experience with data prepping, picking the right learning models, and checking how well they perform. It's a great chance to really understand.\r\n",
    "Challenges and Solutions:I raun into a few bumps along the way. Picking the right data set can be tricky, but exploring different options and understanding the data's context can help. Tuningther learning models for the best results is another challenge, but learning how different settings affect performance and using techniques like cross-validation can make it easier. Lastly, finding the right balance between a too-simple and too-complex model is a delicate task, but understanding the bias-variance tradeoff and using methods like regularization and ensemble learning can prevent overfitting.\r\n",
    "Key Learnings: Some eye-openers from the lab include realizing just how important data preprocessing is for machine learning success, seeing how the Random Forest Classifier beat out the KNN classifier, showing how picking the right learning model for the job is crucial, and recognizing that machine learning has tons of real-life uses!"
   ]
  },
  {
   "cell_type": "code",
   "execution_count": null,
   "id": "28a39fe2-ad6c-48cc-a55a-5cead7333fa6",
   "metadata": {},
   "outputs": [],
   "source": []
  }
 ],
 "metadata": {
  "kernelspec": {
   "display_name": "Python 3 (ipykernel)",
   "language": "python",
   "name": "python3"
  },
  "language_info": {
   "codemirror_mode": {
    "name": "ipython",
    "version": 3
   },
   "file_extension": ".py",
   "mimetype": "text/x-python",
   "name": "python",
   "nbconvert_exporter": "python",
   "pygments_lexer": "ipython3",
   "version": "3.11.7"
  }
 },
 "nbformat": 4,
 "nbformat_minor": 5
}
